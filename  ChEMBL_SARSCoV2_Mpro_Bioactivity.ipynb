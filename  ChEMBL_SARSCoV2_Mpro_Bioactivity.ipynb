{
 "cells": [
  {
   "cell_type": "markdown",
   "id": "459992f2-8cfe-4da1-851c-51392a056b32",
   "metadata": {},
   "source": [
    "### ChEMBL Compound Data Acquisition for SARS-CoV-2 Mpro\n",
    "\n",
    "#### Extracting Bioactivity Data for a Target\n",
    "\n",
    "##### **Project Overview**\n",
    "\n",
    "This project retrieves and processes bioactivity and compound data from the ChEMBL database for the target protein **SARS-CoV-2 Main Protease (Mpro)**. Mpro is a crucial enzyme for viral replication, making it a key target for developing antiviral therapeutics against COVID-19. We will extract both IC50 and Ki bioactivity data. Ki (inhibition constant) provides a more fundamental measure of binding affinity compared to IC50, offering deeper insights into compound potency. The final dataset includes molecular properties, bioactivity values (IC50 and Ki), and their corresponding pIC50 and pKi scores, providing a comprehensive foundation for cheminformatics analysis and drug discovery research related to COVID-19.\n",
    "\n",
    "##### **Key Steps**\n",
    "\n",
    "1.  Connect to ChEMBL\n",
    "2.  Retrieve Target Data (SARS-CoV-2 Mpro)\n",
    "3.  Fetch Bioactivity Data (IC50 and Ki)\n",
    "4.  Preprocess IC50 and Ki Data (calculate the pIC50 and pKi)\n",
    "5.  Retrieve Compound Data. Preprocess and Filter Compound Data\n",
    "6.  Merge Bioactivity and Compound Data\n",
    "7.  Visualize Potent Compounds (based on pIC50 and pKi)\n",
    "8.  Freeze Data to ChEMBL 27\n",
    "\n",
    "##### **Requirements**\n",
    "\n",
    "-   Python 3.x\n",
    "-   Libraries: `pandas`, `numpy`, `rdkit`, `chembl_webresource_client`, `tqdm`\n"
   ]
  },
  {
   "cell_type": "code",
   "execution_count": 119,
   "id": "01584ab3-23b6-45fc-a8db-e47d1672c7fb",
   "metadata": {},
   "outputs": [],
   "source": [
    "import os"
   ]
  },
  {
   "cell_type": "markdown",
   "id": "606b775b-a6ae-44dd-bde0-510241dbb169",
   "metadata": {},
   "source": [
    "##### **Importing Required Libraries**\n",
    "\n",
    "- **Math & File Handling**: `math`, `Path`, `ZipFile`, `TemporaryDirectory`\n",
    "- **Data Processing**: `numpy`, `pandas`\n",
    "- **Cheminformatics**: `rdkit (PandasTools)`\n",
    "- **ChEMBL API**: `chembl_webresource_client`\n",
    "- **Progress Tracking**: `tqdm`\n",
    "\n",
    "These libraries help with **data retrieval, processing, and visualization**."
   ]
  },
  {
   "cell_type": "code",
   "execution_count": 120,
   "id": "dcf5f8a2-f01b-46eb-8655-83942b7d7e72",
   "metadata": {},
   "outputs": [],
   "source": [
    "import math\n",
    "from pathlib import Path\n",
    "from zipfile import ZipFile\n",
    "from tempfile import TemporaryDirectory\n",
    "\n",
    "import numpy as np\n",
    "import pandas as pd\n",
    "from rdkit.Chem import PandasTools\n",
    "from chembl_webresource_client.new_client import new_client\n",
    "from tqdm.auto import tqdm\n",
    "import matplotlib.pyplot as plt\n",
    "import seaborn as sns"
   ]
  },
  {
   "cell_type": "markdown",
   "id": "d643584b-d590-4162-8776-fc02075de7e6",
   "metadata": {},
   "source": [
    "##### 1. **Connect to ChEMBL:** That is establish a connection with the **API**"
   ]
  },
  {
   "cell_type": "code",
   "execution_count": 121,
   "id": "7f8416eb-b26a-4185-afa1-2ec7e2f9ed5e",
   "metadata": {},
   "outputs": [],
   "source": [
    "# Define the project root directory\n",
    "HERE = Path(\"F:\\CHEMOINFORMATICS\")\n",
    "\n",
    "# Define the data directory\n",
    "DATA = HERE / \"data\""
   ]
  },
  {
   "cell_type": "code",
   "execution_count": 122,
   "id": "28968bda-8dd3-49c6-9296-1b9d765ecbfe",
   "metadata": {},
   "outputs": [],
   "source": [
    "targets_api = new_client.target # Access target (protein) data \n",
    "compounds_api = new_client.molecule # Access compound (inhibitors) data \n",
    "bioactivities_api = new_client.activity # Access bioactivity (IC50 and Ki) data "
   ]
  },
  {
   "cell_type": "code",
   "execution_count": 123,
   "id": "f7b7a2d7-40a4-468b-9209-bff19e8f579f",
   "metadata": {},
   "outputs": [
    {
     "data": {
      "text/plain": [
       "chembl_webresource_client.query_set.QuerySet"
      ]
     },
     "execution_count": 123,
     "metadata": {},
     "output_type": "execute_result"
    }
   ],
   "source": [
    "type(targets_api) # Check the object type"
   ]
  },
  {
   "cell_type": "markdown",
   "id": "e2d17991-fa66-4b4b-b1aa-5c4407175960",
   "metadata": {},
   "source": [
    "##### 2. Retrieve Mpro\n",
    "\n",
    "-   Use the ChEMBL API to search for the target protein, extract ChEMBL Target ID.\n",
    "-   Retrieve the ChEMBL Target ID for Mpro from the search results.\n",
    "-   Get UniProt ID.\n",
    "-   [https://www.uniprot.org/](https://www.uniprot.org/) and search for **Mpro**.\n",
    "-   Retrieve the UniProt ID: **P0DTD1**."
   ]
  },
  {
   "cell_type": "code",
   "execution_count": 124,
   "id": "28afeeee-0f67-47ab-877b-3ad26aed37bd",
   "metadata": {},
   "outputs": [],
   "source": [
    "uniprot_id = \"P0DTD1\""
   ]
  },
  {
   "cell_type": "code",
   "execution_count": 125,
   "id": "c8671008-f041-4eb3-974f-f74cb878f225",
   "metadata": {},
   "outputs": [
    {
     "name": "stdout",
     "output_type": "stream",
     "text": [
      "Type of the targets is \"<class 'chembl_webresource_client.query_set.QuerySet'>\"\n"
     ]
    }
   ],
   "source": [
    "# Retrieve Mpro information from ChEMBL using its UniProt ID.\n",
    "targets = targets_api.get(target_components__accession=uniprot_id).only(\n",
    "    \"target_chembl_id\", \"organism\", \"pref_name\", \"target_type\"\n",
    ")\n",
    "print(f'Type of the targets is \"{type(targets)}\"')"
   ]
  },
  {
   "cell_type": "code",
   "execution_count": 126,
   "id": "ecf94cb4-1ae4-468e-8743-62b1492fe7bb",
   "metadata": {},
   "outputs": [],
   "source": [
    "# Convert the ChEMBL data to dataframe\n",
    "targets = pd.DataFrame.from_records(targets)"
   ]
  },
  {
   "cell_type": "code",
   "execution_count": 127,
   "id": "bdfbd79d-f3c6-4555-b411-93b4a63aa252",
   "metadata": {},
   "outputs": [
    {
     "data": {
      "text/html": [
       "<div>\n",
       "<style scoped>\n",
       "    .dataframe tbody tr th:only-of-type {\n",
       "        vertical-align: middle;\n",
       "    }\n",
       "\n",
       "    .dataframe tbody tr th {\n",
       "        vertical-align: top;\n",
       "    }\n",
       "\n",
       "    .dataframe thead th {\n",
       "        text-align: right;\n",
       "    }\n",
       "</style>\n",
       "<table border=\"1\" class=\"dataframe\">\n",
       "  <thead>\n",
       "    <tr style=\"text-align: right;\">\n",
       "      <th></th>\n",
       "      <th>organism</th>\n",
       "      <th>pref_name</th>\n",
       "      <th>target_chembl_id</th>\n",
       "      <th>target_type</th>\n",
       "    </tr>\n",
       "  </thead>\n",
       "  <tbody>\n",
       "    <tr>\n",
       "      <th>0</th>\n",
       "      <td>Severe acute respiratory syndrome coronavirus 2</td>\n",
       "      <td>Replicase polyprotein 1ab</td>\n",
       "      <td>CHEMBL4523582</td>\n",
       "      <td>SINGLE PROTEIN</td>\n",
       "    </tr>\n",
       "    <tr>\n",
       "      <th>1</th>\n",
       "      <td>Severe acute respiratory syndrome coronavirus 2</td>\n",
       "      <td>Replicase polyprotein 1ab</td>\n",
       "      <td>CHEMBL4523582</td>\n",
       "      <td>SINGLE PROTEIN</td>\n",
       "    </tr>\n",
       "  </tbody>\n",
       "</table>\n",
       "</div>"
      ],
      "text/plain": [
       "                                          organism                  pref_name  \\\n",
       "0  Severe acute respiratory syndrome coronavirus 2  Replicase polyprotein 1ab   \n",
       "1  Severe acute respiratory syndrome coronavirus 2  Replicase polyprotein 1ab   \n",
       "\n",
       "  target_chembl_id     target_type  \n",
       "0    CHEMBL4523582  SINGLE PROTEIN  \n",
       "1    CHEMBL4523582  SINGLE PROTEIN  "
      ]
     },
     "execution_count": 127,
     "metadata": {},
     "output_type": "execute_result"
    }
   ],
   "source": [
    "targets"
   ]
  },
  {
   "cell_type": "code",
   "execution_count": 128,
   "id": "6c92e345-b331-4ac6-8cb4-e70ea9f5df07",
   "metadata": {},
   "outputs": [
    {
     "data": {
      "text/plain": [
       "organism            Severe acute respiratory syndrome coronavirus 2\n",
       "pref_name                                 Replicase polyprotein 1ab\n",
       "target_chembl_id                                      CHEMBL4523582\n",
       "target_type                                          SINGLE PROTEIN\n",
       "Name: 0, dtype: object"
      ]
     },
     "execution_count": 128,
     "metadata": {},
     "output_type": "execute_result"
    }
   ],
   "source": [
    "# Select any of the target ChEMBL ID, since they are both the same\n",
    "target = targets.iloc[0]\n",
    "target"
   ]
  },
  {
   "cell_type": "code",
   "execution_count": 129,
   "id": "53d5abb2-d4a9-40c8-9e49-087e9d39bf5a",
   "metadata": {},
   "outputs": [
    {
     "name": "stdout",
     "output_type": "stream",
     "text": [
      "ChEMBL ID is CHEMBL4523582\n"
     ]
    }
   ],
   "source": [
    "#Save selected ChEMBL ID to a variable\n",
    "chembl_id = target.target_chembl_id\n",
    "print(f\"ChEMBL ID is {chembl_id}\")"
   ]
  },
  {
   "cell_type": "markdown",
   "id": "ecf06dc7-4729-42db-a9f2-421548c0251c",
   "metadata": {},
   "source": [
    "##### **3. Fetch Bioactivity Data (IC50 and Ki)**\n",
    "\n",
    "-   **Retrieve Bioactivity Data:**\n",
    "    -   Use the ChEMBL API to retrieve bioactivity data for the target (SARS-CoV-2 Mpro).\n",
    "    -   Filter for:\n",
    "        -   Bioactivity types: **IC50 and Ki**.\n",
    "        -   Exact measurements (relation '=').\n",
    "        -   Binding assays (assay type 'B').\n",
    "    -   Retrieve relevant fields: `activity_id`, `assay_chembl_id`, `assay_description`, `assay_type`, `molecule_chembl_id`, `type`, `standard_units`, `relation`, `standard_value`, `target_chembl_id`, and `target_organism`."
   ]
  },
  {
   "cell_type": "code",
   "execution_count": 130,
   "id": "0e26ef73-85ec-4928-b0a9-cd922e5f0ef3",
   "metadata": {},
   "outputs": [],
   "source": [
    "# Correctly filter for both IC50 and Ki bioactivity types\n",
    "bioactivities = bioactivities_api.filter(\n",
    "    target_chembl_id=chembl_id,  # Target ChEMBL ID\n",
    "    type__in=[\"IC50\", \"Ki\"],     # Filter for both IC50 and Ki\n",
    "    relation=\"=\",                # Exact measurements\n",
    "    assay_type=\"B\"               # Binding assays\n",
    ").only(\n",
    "    \"activity_id\",\n",
    "    \"assay_chembl_id\",\n",
    "    \"assay_description\",\n",
    "    \"assay_type\",\n",
    "    \"molecule_chembl_id\",\n",
    "    \"type\",                      # Bioactivity type (IC50 or Ki)\n",
    "    \"standard_units\",\n",
    "    \"relation\",\n",
    "    \"standard_value\",\n",
    "    \"target_chembl_id\",\n",
    "    \"target_organism\",\n",
    ")"
   ]
  },
  {
   "cell_type": "code",
   "execution_count": 131,
   "id": "8acb8355-df72-43fa-bd46-8fa42845aba0",
   "metadata": {},
   "outputs": [
    {
     "name": "stdout",
     "output_type": "stream",
     "text": [
      "Length and type of bioactivities object: 1931, <class 'chembl_webresource_client.query_set.QuerySet'>\n"
     ]
    }
   ],
   "source": [
    "# Print the length and type of the bioactivities object\n",
    "print(f\"Length and type of bioactivities object: {len(bioactivities)}, {type(bioactivities)}\")"
   ]
  },
  {
   "cell_type": "code",
   "execution_count": 132,
   "id": "e3d660fd-d00b-4508-8ac1-68c34570d3cf",
   "metadata": {},
   "outputs": [
    {
     "name": "stdout",
     "output_type": "stream",
     "text": [
      "Length and type of first element: 13, <class 'dict'>\n"
     ]
    },
    {
     "data": {
      "text/plain": [
       "{'activity_id': 23150136,\n",
       " 'assay_chembl_id': 'CHEMBL4810314',\n",
       " 'assay_description': 'Inhibition of SARS-CoV-2 3CLpro preincubated for 30 mins followed by addition of (Dabcyl)KTSAVLQSGFRKM(Glu) peptide substrate and measured after 1.5 hrs by FRET assay',\n",
       " 'assay_type': 'B',\n",
       " 'molecule_chembl_id': 'CHEMBL2316746',\n",
       " 'relation': '=',\n",
       " 'standard_units': 'nM',\n",
       " 'standard_value': '94.0',\n",
       " 'target_chembl_id': 'CHEMBL4523582',\n",
       " 'target_organism': 'Severe acute respiratory syndrome coronavirus 2',\n",
       " 'type': 'IC50',\n",
       " 'units': 'uM',\n",
       " 'value': '0.094'}"
      ]
     },
     "execution_count": 132,
     "metadata": {},
     "output_type": "execute_result"
    }
   ],
   "source": [
    "#Inspects the first record (bioactivities[0]) to understand its structure\n",
    "\n",
    "print(f\"Length and type of first element: {len(bioactivities[0])}, {type(bioactivities[0])}\")\n",
    "bioactivities[0]"
   ]
  },
  {
   "cell_type": "code",
   "execution_count": 133,
   "id": "7f1afe05-956f-4dd1-b5da-3ca139ac5d16",
   "metadata": {},
   "outputs": [
    {
     "name": "stdout",
     "output_type": "stream",
     "text": [
      "DataFrame shape: (1931, 13)\n"
     ]
    },
    {
     "data": {
      "text/html": [
       "<div>\n",
       "<style scoped>\n",
       "    .dataframe tbody tr th:only-of-type {\n",
       "        vertical-align: middle;\n",
       "    }\n",
       "\n",
       "    .dataframe tbody tr th {\n",
       "        vertical-align: top;\n",
       "    }\n",
       "\n",
       "    .dataframe thead th {\n",
       "        text-align: right;\n",
       "    }\n",
       "</style>\n",
       "<table border=\"1\" class=\"dataframe\">\n",
       "  <thead>\n",
       "    <tr style=\"text-align: right;\">\n",
       "      <th></th>\n",
       "      <th>activity_id</th>\n",
       "      <th>assay_chembl_id</th>\n",
       "      <th>assay_description</th>\n",
       "      <th>assay_type</th>\n",
       "      <th>molecule_chembl_id</th>\n",
       "      <th>relation</th>\n",
       "      <th>standard_units</th>\n",
       "      <th>standard_value</th>\n",
       "      <th>target_chembl_id</th>\n",
       "      <th>target_organism</th>\n",
       "      <th>type</th>\n",
       "      <th>units</th>\n",
       "      <th>value</th>\n",
       "    </tr>\n",
       "  </thead>\n",
       "  <tbody>\n",
       "    <tr>\n",
       "      <th>0</th>\n",
       "      <td>23150136</td>\n",
       "      <td>CHEMBL4810314</td>\n",
       "      <td>Inhibition of SARS-CoV-2 3CLpro preincubated f...</td>\n",
       "      <td>B</td>\n",
       "      <td>CHEMBL2316746</td>\n",
       "      <td>=</td>\n",
       "      <td>nM</td>\n",
       "      <td>94.0</td>\n",
       "      <td>CHEMBL4523582</td>\n",
       "      <td>Severe acute respiratory syndrome coronavirus 2</td>\n",
       "      <td>IC50</td>\n",
       "      <td>uM</td>\n",
       "      <td>0.094</td>\n",
       "    </tr>\n",
       "    <tr>\n",
       "      <th>1</th>\n",
       "      <td>23150137</td>\n",
       "      <td>CHEMBL4810314</td>\n",
       "      <td>Inhibition of SARS-CoV-2 3CLpro preincubated f...</td>\n",
       "      <td>B</td>\n",
       "      <td>CHEMBL213543</td>\n",
       "      <td>=</td>\n",
       "      <td>nM</td>\n",
       "      <td>286.0</td>\n",
       "      <td>CHEMBL4523582</td>\n",
       "      <td>Severe acute respiratory syndrome coronavirus 2</td>\n",
       "      <td>IC50</td>\n",
       "      <td>uM</td>\n",
       "      <td>0.28600000000000003</td>\n",
       "    </tr>\n",
       "    <tr>\n",
       "      <th>2</th>\n",
       "      <td>23150138</td>\n",
       "      <td>CHEMBL4810314</td>\n",
       "      <td>Inhibition of SARS-CoV-2 3CLpro preincubated f...</td>\n",
       "      <td>B</td>\n",
       "      <td>CHEMBL4796938</td>\n",
       "      <td>=</td>\n",
       "      <td>nM</td>\n",
       "      <td>14.0</td>\n",
       "      <td>CHEMBL4523582</td>\n",
       "      <td>Severe acute respiratory syndrome coronavirus 2</td>\n",
       "      <td>IC50</td>\n",
       "      <td>uM</td>\n",
       "      <td>0.013999999999999999</td>\n",
       "    </tr>\n",
       "    <tr>\n",
       "      <th>3</th>\n",
       "      <td>23150139</td>\n",
       "      <td>CHEMBL4810314</td>\n",
       "      <td>Inhibition of SARS-CoV-2 3CLpro preincubated f...</td>\n",
       "      <td>B</td>\n",
       "      <td>CHEMBL4764751</td>\n",
       "      <td>=</td>\n",
       "      <td>nM</td>\n",
       "      <td>23.0</td>\n",
       "      <td>CHEMBL4523582</td>\n",
       "      <td>Severe acute respiratory syndrome coronavirus 2</td>\n",
       "      <td>IC50</td>\n",
       "      <td>uM</td>\n",
       "      <td>0.023</td>\n",
       "    </tr>\n",
       "    <tr>\n",
       "      <th>4</th>\n",
       "      <td>23150140</td>\n",
       "      <td>CHEMBL4810314</td>\n",
       "      <td>Inhibition of SARS-CoV-2 3CLpro preincubated f...</td>\n",
       "      <td>B</td>\n",
       "      <td>CHEMBL4857345</td>\n",
       "      <td>=</td>\n",
       "      <td>nM</td>\n",
       "      <td>65.0</td>\n",
       "      <td>CHEMBL4523582</td>\n",
       "      <td>Severe acute respiratory syndrome coronavirus 2</td>\n",
       "      <td>IC50</td>\n",
       "      <td>uM</td>\n",
       "      <td>0.065</td>\n",
       "    </tr>\n",
       "  </tbody>\n",
       "</table>\n",
       "</div>"
      ],
      "text/plain": [
       "   activity_id assay_chembl_id  \\\n",
       "0     23150136   CHEMBL4810314   \n",
       "1     23150137   CHEMBL4810314   \n",
       "2     23150138   CHEMBL4810314   \n",
       "3     23150139   CHEMBL4810314   \n",
       "4     23150140   CHEMBL4810314   \n",
       "\n",
       "                                   assay_description assay_type  \\\n",
       "0  Inhibition of SARS-CoV-2 3CLpro preincubated f...          B   \n",
       "1  Inhibition of SARS-CoV-2 3CLpro preincubated f...          B   \n",
       "2  Inhibition of SARS-CoV-2 3CLpro preincubated f...          B   \n",
       "3  Inhibition of SARS-CoV-2 3CLpro preincubated f...          B   \n",
       "4  Inhibition of SARS-CoV-2 3CLpro preincubated f...          B   \n",
       "\n",
       "  molecule_chembl_id relation standard_units standard_value target_chembl_id  \\\n",
       "0      CHEMBL2316746        =             nM           94.0    CHEMBL4523582   \n",
       "1       CHEMBL213543        =             nM          286.0    CHEMBL4523582   \n",
       "2      CHEMBL4796938        =             nM           14.0    CHEMBL4523582   \n",
       "3      CHEMBL4764751        =             nM           23.0    CHEMBL4523582   \n",
       "4      CHEMBL4857345        =             nM           65.0    CHEMBL4523582   \n",
       "\n",
       "                                   target_organism  type units  \\\n",
       "0  Severe acute respiratory syndrome coronavirus 2  IC50    uM   \n",
       "1  Severe acute respiratory syndrome coronavirus 2  IC50    uM   \n",
       "2  Severe acute respiratory syndrome coronavirus 2  IC50    uM   \n",
       "3  Severe acute respiratory syndrome coronavirus 2  IC50    uM   \n",
       "4  Severe acute respiratory syndrome coronavirus 2  IC50    uM   \n",
       "\n",
       "                  value  \n",
       "0                 0.094  \n",
       "1   0.28600000000000003  \n",
       "2  0.013999999999999999  \n",
       "3                 0.023  \n",
       "4                 0.065  "
      ]
     },
     "execution_count": 133,
     "metadata": {},
     "output_type": "execute_result"
    }
   ],
   "source": [
    "#Converts the bioactivities object into a Pandas DataFrame.\n",
    "bioactivities_df = pd.DataFrame.from_dict(bioactivities)\n",
    "print(f\"DataFrame shape: {bioactivities_df.shape}\")\n",
    "bioactivities_df.head()"
   ]
  },
  {
   "cell_type": "code",
   "execution_count": 134,
   "id": "3fc42f90-6985-4152-9f97-8b2313dd82f8",
   "metadata": {},
   "outputs": [
    {
     "data": {
      "text/plain": [
       "array(['IC50', 'Ki'], dtype=object)"
      ]
     },
     "execution_count": 134,
     "metadata": {},
     "output_type": "execute_result"
    }
   ],
   "source": [
    "# To check if both 'IC50' and 'Ki' are present in the data\n",
    "bioactivities_df['type'].unique()"
   ]
  },
  {
   "cell_type": "code",
   "execution_count": 135,
   "id": "a0f4c88b-39d6-4062-9fbb-056290e0afd9",
   "metadata": {},
   "outputs": [
    {
     "data": {
      "text/plain": [
       "type\n",
       "IC50    1827\n",
       "Ki       104\n",
       "Name: count, dtype: int64"
      ]
     },
     "execution_count": 135,
     "metadata": {},
     "output_type": "execute_result"
    }
   ],
   "source": [
    "#To check for the value counts for both 'IC50', 'Ki' present in the data\n",
    "bioactivities_df[\"type\"].value_counts()"
   ]
  },
  {
   "cell_type": "code",
   "execution_count": 136,
   "id": "72cdaf4f-4072-46b7-afff-1859a3ed6266",
   "metadata": {},
   "outputs": [
    {
     "data": {
      "text/plain": [
       "array(['uM', 'nM', 'mM', 'ug ml-1'], dtype=object)"
      ]
     },
     "execution_count": 136,
     "metadata": {},
     "output_type": "execute_result"
    }
   ],
   "source": [
    "# Check the unique values in the units column of your DataFrame\n",
    "bioactivities_df[\"units\"].unique()"
   ]
  },
  {
   "cell_type": "code",
   "execution_count": 137,
   "id": "e825604c-c6f7-4a75-a050-777c74a53bf9",
   "metadata": {},
   "outputs": [
    {
     "data": {
      "text/plain": [
       "array(['nM', 'ug.mL-1'], dtype=object)"
      ]
     },
     "execution_count": 137,
     "metadata": {},
     "output_type": "execute_result"
    }
   ],
   "source": [
    "# Check the unique values in the units column of your DataFrame\n",
    "bioactivities_df[\"standard_units\"].unique()"
   ]
  },
  {
   "cell_type": "code",
   "execution_count": 138,
   "id": "329d9b49-e3a5-42c4-ba25-7b4c5885f6d4",
   "metadata": {},
   "outputs": [],
   "source": [
    "#Drop non-standard columns ('units' and 'values') and use only the standardized data\n",
    "bioactivities_df.drop([\"units\", \"value\"], axis = 1, inplace = True)"
   ]
  },
  {
   "cell_type": "code",
   "execution_count": 139,
   "id": "1851c6e0-a64c-4d71-beab-60dd8340310c",
   "metadata": {},
   "outputs": [
    {
     "data": {
      "text/html": [
       "<div>\n",
       "<style scoped>\n",
       "    .dataframe tbody tr th:only-of-type {\n",
       "        vertical-align: middle;\n",
       "    }\n",
       "\n",
       "    .dataframe tbody tr th {\n",
       "        vertical-align: top;\n",
       "    }\n",
       "\n",
       "    .dataframe thead th {\n",
       "        text-align: right;\n",
       "    }\n",
       "</style>\n",
       "<table border=\"1\" class=\"dataframe\">\n",
       "  <thead>\n",
       "    <tr style=\"text-align: right;\">\n",
       "      <th></th>\n",
       "      <th>activity_id</th>\n",
       "      <th>assay_chembl_id</th>\n",
       "      <th>assay_description</th>\n",
       "      <th>assay_type</th>\n",
       "      <th>molecule_chembl_id</th>\n",
       "      <th>relation</th>\n",
       "      <th>standard_units</th>\n",
       "      <th>standard_value</th>\n",
       "      <th>target_chembl_id</th>\n",
       "      <th>target_organism</th>\n",
       "      <th>type</th>\n",
       "    </tr>\n",
       "  </thead>\n",
       "  <tbody>\n",
       "    <tr>\n",
       "      <th>0</th>\n",
       "      <td>23150136</td>\n",
       "      <td>CHEMBL4810314</td>\n",
       "      <td>Inhibition of SARS-CoV-2 3CLpro preincubated f...</td>\n",
       "      <td>B</td>\n",
       "      <td>CHEMBL2316746</td>\n",
       "      <td>=</td>\n",
       "      <td>nM</td>\n",
       "      <td>94.0</td>\n",
       "      <td>CHEMBL4523582</td>\n",
       "      <td>Severe acute respiratory syndrome coronavirus 2</td>\n",
       "      <td>IC50</td>\n",
       "    </tr>\n",
       "    <tr>\n",
       "      <th>1</th>\n",
       "      <td>23150137</td>\n",
       "      <td>CHEMBL4810314</td>\n",
       "      <td>Inhibition of SARS-CoV-2 3CLpro preincubated f...</td>\n",
       "      <td>B</td>\n",
       "      <td>CHEMBL213543</td>\n",
       "      <td>=</td>\n",
       "      <td>nM</td>\n",
       "      <td>286.0</td>\n",
       "      <td>CHEMBL4523582</td>\n",
       "      <td>Severe acute respiratory syndrome coronavirus 2</td>\n",
       "      <td>IC50</td>\n",
       "    </tr>\n",
       "  </tbody>\n",
       "</table>\n",
       "</div>"
      ],
      "text/plain": [
       "   activity_id assay_chembl_id  \\\n",
       "0     23150136   CHEMBL4810314   \n",
       "1     23150137   CHEMBL4810314   \n",
       "\n",
       "                                   assay_description assay_type  \\\n",
       "0  Inhibition of SARS-CoV-2 3CLpro preincubated f...          B   \n",
       "1  Inhibition of SARS-CoV-2 3CLpro preincubated f...          B   \n",
       "\n",
       "  molecule_chembl_id relation standard_units standard_value target_chembl_id  \\\n",
       "0      CHEMBL2316746        =             nM           94.0    CHEMBL4523582   \n",
       "1       CHEMBL213543        =             nM          286.0    CHEMBL4523582   \n",
       "\n",
       "                                   target_organism  type  \n",
       "0  Severe acute respiratory syndrome coronavirus 2  IC50  \n",
       "1  Severe acute respiratory syndrome coronavirus 2  IC50  "
      ]
     },
     "execution_count": 139,
     "metadata": {},
     "output_type": "execute_result"
    }
   ],
   "source": [
    "bioactivities_df.head(2)"
   ]
  },
  {
   "cell_type": "code",
   "execution_count": 140,
   "id": "d9865d97-85e1-4498-bc48-27ba347d15f0",
   "metadata": {},
   "outputs": [
    {
     "data": {
      "text/plain": [
       "activity_id            int64\n",
       "assay_chembl_id       object\n",
       "assay_description     object\n",
       "assay_type            object\n",
       "molecule_chembl_id    object\n",
       "relation              object\n",
       "standard_units        object\n",
       "standard_value        object\n",
       "target_chembl_id      object\n",
       "target_organism       object\n",
       "type                  object\n",
       "dtype: object"
      ]
     },
     "execution_count": 140,
     "metadata": {},
     "output_type": "execute_result"
    }
   ],
   "source": [
    "bioactivities_df.dtypes"
   ]
  },
  {
   "cell_type": "markdown",
   "id": "029ec8fa-a117-4529-a607-37cb8563ebdc",
   "metadata": {},
   "source": [
    "##### **4. Preprocess Bioactivity Data**\n",
    "\n",
    "-   **Convert to Numeric:** Convert `standard_value` to numeric.\n",
    "-   **Handle Missing Data:** Remove rows with missing `standard_value` or `standard_units`.\n",
    "-   **Filter Units:** Keep only entries with `standard_units` as 'nM'.\n",
    "-   **Resolve variability in Standard value:** Use the mean aggregate.\n",
    "-   **Reset Index:** Reset the DataFrame index.\n",
    "-   **Separate Data:** Create separate DataFrames for IC50 and Ki.\n",
    "-   **Calculate p Values:**\n",
    "    -   Calculate pIC50 for the IC50 DataFrame.\n",
    "    -   Calculate pKi for the Ki DataFrame.\n",
    "-   **Combine:** Combine processed IC50 and Ki DataFrames."
   ]
  },
  {
   "cell_type": "code",
   "execution_count": 141,
   "id": "8450e4a6-4906-467e-a872-9a0087450bef",
   "metadata": {},
   "outputs": [
    {
     "data": {
      "text/plain": [
       "activity_id             int64\n",
       "assay_chembl_id        object\n",
       "assay_description      object\n",
       "assay_type             object\n",
       "molecule_chembl_id     object\n",
       "relation               object\n",
       "standard_units         object\n",
       "standard_value        float64\n",
       "target_chembl_id       object\n",
       "target_organism        object\n",
       "type                   object\n",
       "dtype: object"
      ]
     },
     "execution_count": 141,
     "metadata": {},
     "output_type": "execute_result"
    }
   ],
   "source": [
    "# Convert to Numeric:** Convert `standard_value` to numeric.\n",
    "bioactivities_df = bioactivities_df.astype({\"standard_value\": \"float64\"})\n",
    "bioactivities_df.dtypes"
   ]
  },
  {
   "cell_type": "code",
   "execution_count": 142,
   "id": "f269f78f-d8bb-4db1-8f26-55a274211a4e",
   "metadata": {},
   "outputs": [],
   "source": [
    "# Remove rows with missing values\n",
    "bioactivities_df.dropna(axis = 0, how = \"any\", inplace = True)"
   ]
  },
  {
   "cell_type": "code",
   "execution_count": 143,
   "id": "055ff0b5-976d-43e7-b441-c7763ed20f1c",
   "metadata": {},
   "outputs": [
    {
     "data": {
      "text/plain": [
       "(1931, 11)"
      ]
     },
     "execution_count": 143,
     "metadata": {},
     "output_type": "execute_result"
    }
   ],
   "source": [
    "bioactivities_df.shape"
   ]
  },
  {
   "cell_type": "code",
   "execution_count": 144,
   "id": "9707f937-a257-46dd-b0e0-986b1ebfaca7",
   "metadata": {},
   "outputs": [
    {
     "data": {
      "text/plain": [
       "1918"
      ]
     },
     "execution_count": 144,
     "metadata": {},
     "output_type": "execute_result"
    }
   ],
   "source": [
    "#Number of entries with standard_units 'nM'\n",
    "len(bioactivities_df[bioactivities_df[\"standard_units\"] == \"nM\"])"
   ]
  },
  {
   "cell_type": "code",
   "execution_count": 145,
   "id": "a5233716-b90d-4a68-bf28-74e8fd57eed3",
   "metadata": {},
   "outputs": [
    {
     "data": {
      "text/plain": [
       "13"
      ]
     },
     "execution_count": 145,
     "metadata": {},
     "output_type": "execute_result"
    }
   ],
   "source": [
    "#Number of entries without standard_units 'nM'\n",
    "len(bioactivities_df[bioactivities_df[\"standard_units\"] != \"nM\"])"
   ]
  },
  {
   "cell_type": "code",
   "execution_count": 146,
   "id": "aec97884-325d-4f13-a256-7fc7a089332c",
   "metadata": {},
   "outputs": [],
   "source": [
    " #Filter Units:** Keep only entries with `standard_units` as 'nM'.\n",
    "bioactivities_df = bioactivities_df[bioactivities_df[\"standard_units\"] == \"nM\"]"
   ]
  },
  {
   "cell_type": "code",
   "execution_count": 147,
   "id": "c5bbc968-6ee7-4448-b573-41cbacd7cc0d",
   "metadata": {},
   "outputs": [
    {
     "data": {
      "text/plain": [
       "array(['nM'], dtype=object)"
      ]
     },
     "execution_count": 147,
     "metadata": {},
     "output_type": "execute_result"
    }
   ],
   "source": [
    "#Cross-check if its only contains \"nM\"\n",
    "bioactivities_df[\"standard_units\"].unique()"
   ]
  },
  {
   "cell_type": "code",
   "execution_count": 148,
   "id": "a2357c10-c413-4257-bbcb-d80ab9518357",
   "metadata": {},
   "outputs": [
    {
     "data": {
      "text/plain": [
       "(1918, 11)"
      ]
     },
     "execution_count": 148,
     "metadata": {},
     "output_type": "execute_result"
    }
   ],
   "source": [
    "bioactivities_df.shape"
   ]
  },
  {
   "cell_type": "code",
   "execution_count": 149,
   "id": "c7a857d3-6057-4d7d-b3ef-9ffeefd51aaa",
   "metadata": {},
   "outputs": [
    {
     "data": {
      "text/plain": [
       "molecule_chembl_id\n",
       "CHEMBL4802135    32\n",
       "CHEMBL3427166    19\n",
       "CHEMBL51085      18\n",
       "CHEMBL4796938    16\n",
       "CHEMBL8260       15\n",
       "                 ..\n",
       "CHEMBL5206974     1\n",
       "CHEMBL5200159     1\n",
       "CHEMBL5200032     1\n",
       "CHEMBL5189954     1\n",
       "CHEMBL5418521     1\n",
       "Name: count, Length: 1455, dtype: int64"
      ]
     },
     "execution_count": 149,
     "metadata": {},
     "output_type": "execute_result"
    }
   ],
   "source": [
    "bioactivities_df[\"molecule_chembl_id\"].value_counts()"
   ]
  },
  {
   "cell_type": "code",
   "execution_count": 150,
   "id": "95eb4c61-80b3-4da9-bab0-2f00b4dafbbe",
   "metadata": {},
   "outputs": [
    {
     "data": {
      "image/png": "[encoded data removed]",
      "text/plain": [
       "<Figure size 640x480 with 1 Axes>"
      ]
     },
     "metadata": {},
     "output_type": "display_data"
    }
   ],
   "source": [
    "#Analyze the variability in measurements for each molecule\n",
    "# Plot the distribution of standard_value for a specific molecule\n",
    "sns.histplot(bioactivities_df[bioactivities_df[\"molecule_chembl_id\"] == \"CHEMBL4802135\"][\"standard_value\"], kde=True)\n",
    "plt.title(\"Distribution of standard_value for CHEMBL4802135\")\n",
    "plt.xlabel(\"standard_value (nM)\")\n",
    "plt.ylabel(\"Frequency\")\n",
    "plt.show()"
   ]
  },
  {
   "cell_type": "code",
   "execution_count": 151,
   "id": "3b08e40e-46e4-4116-9e77-6588cd7fc03f",
   "metadata": {},
   "outputs": [
    {
     "data": {
      "image/png": "[encoded data removed]",
      "text/plain": [
       "<Figure size 2000x800 with 10 Axes>"
      ]
     },
     "metadata": {},
     "output_type": "display_data"
    }
   ],
   "source": [
    "# Create a faceted plot for the top 10 molecules\n",
    "top_molecules = bioactivities_df[\"molecule_chembl_id\"].value_counts().head(10).index.tolist()\n",
    "filtered_df = bioactivities_df[bioactivities_df[\"molecule_chembl_id\"].isin(top_molecules)]\n",
    "\n",
    "# Use FacetGrid to create separate histograms\n",
    "g = sns.FacetGrid(filtered_df, col=\"molecule_chembl_id\", col_wrap=5, height=4, sharex=False, sharey=False)\n",
    "g.map(sns.histplot, \"standard_value\", kde=True)\n",
    "g.set_axis_labels(\"standard_value (nM)\", \"Frequency\")\n",
    "g.set_titles(\"Molecule: {col_name}\")\n",
    "plt.show()"
   ]
  },
  {
   "cell_type": "code",
   "execution_count": 152,
   "id": "f13a2847-4913-467b-8d9b-01783c98a67b",
   "metadata": {},
   "outputs": [
    {
     "data": {
      "text/html": [
       "<div>\n",
       "<style scoped>\n",
       "    .dataframe tbody tr th:only-of-type {\n",
       "        vertical-align: middle;\n",
       "    }\n",
       "\n",
       "    .dataframe tbody tr th {\n",
       "        vertical-align: top;\n",
       "    }\n",
       "\n",
       "    .dataframe thead th {\n",
       "        text-align: right;\n",
       "    }\n",
       "</style>\n",
       "<table border=\"1\" class=\"dataframe\">\n",
       "  <thead>\n",
       "    <tr style=\"text-align: right;\">\n",
       "      <th></th>\n",
       "      <th>activity_id</th>\n",
       "      <th>assay_chembl_id</th>\n",
       "      <th>assay_description</th>\n",
       "      <th>assay_type</th>\n",
       "      <th>molecule_chembl_id</th>\n",
       "      <th>relation</th>\n",
       "      <th>standard_units</th>\n",
       "      <th>standard_value</th>\n",
       "      <th>target_chembl_id</th>\n",
       "      <th>target_organism</th>\n",
       "      <th>type</th>\n",
       "    </tr>\n",
       "  </thead>\n",
       "  <tbody>\n",
       "    <tr>\n",
       "      <th>0</th>\n",
       "      <td>23150136</td>\n",
       "      <td>CHEMBL4810314</td>\n",
       "      <td>Inhibition of SARS-CoV-2 3CLpro preincubated f...</td>\n",
       "      <td>B</td>\n",
       "      <td>CHEMBL2316746</td>\n",
       "      <td>=</td>\n",
       "      <td>nM</td>\n",
       "      <td>94.0</td>\n",
       "      <td>CHEMBL4523582</td>\n",
       "      <td>Severe acute respiratory syndrome coronavirus 2</td>\n",
       "      <td>IC50</td>\n",
       "    </tr>\n",
       "    <tr>\n",
       "      <th>1</th>\n",
       "      <td>23150137</td>\n",
       "      <td>CHEMBL4810314</td>\n",
       "      <td>Inhibition of SARS-CoV-2 3CLpro preincubated f...</td>\n",
       "      <td>B</td>\n",
       "      <td>CHEMBL213543</td>\n",
       "      <td>=</td>\n",
       "      <td>nM</td>\n",
       "      <td>286.0</td>\n",
       "      <td>CHEMBL4523582</td>\n",
       "      <td>Severe acute respiratory syndrome coronavirus 2</td>\n",
       "      <td>IC50</td>\n",
       "    </tr>\n",
       "  </tbody>\n",
       "</table>\n",
       "</div>"
      ],
      "text/plain": [
       "   activity_id assay_chembl_id  \\\n",
       "0     23150136   CHEMBL4810314   \n",
       "1     23150137   CHEMBL4810314   \n",
       "\n",
       "                                   assay_description assay_type  \\\n",
       "0  Inhibition of SARS-CoV-2 3CLpro preincubated f...          B   \n",
       "1  Inhibition of SARS-CoV-2 3CLpro preincubated f...          B   \n",
       "\n",
       "  molecule_chembl_id relation standard_units  standard_value target_chembl_id  \\\n",
       "0      CHEMBL2316746        =             nM            94.0    CHEMBL4523582   \n",
       "1       CHEMBL213543        =             nM           286.0    CHEMBL4523582   \n",
       "\n",
       "                                   target_organism  type  \n",
       "0  Severe acute respiratory syndrome coronavirus 2  IC50  \n",
       "1  Severe acute respiratory syndrome coronavirus 2  IC50  "
      ]
     },
     "execution_count": 152,
     "metadata": {},
     "output_type": "execute_result"
    }
   ],
   "source": [
    "bioactivities_df.head(2)"
   ]
  },
  {
   "cell_type": "code",
   "execution_count": 153,
   "id": "ed5efbeb-1f50-499d-933f-ba13647ac6e7",
   "metadata": {},
   "outputs": [],
   "source": [
    "#Resolve variability in Standard value: Use the mean aggregate.\n",
    "mean_df = bioactivities_df.groupby('molecule_chembl_id', as_index=False).agg({\n",
    "    'standard_value': 'mean',  # Calculate mean standard_value\n",
    "    'activity_id': 'first',    # Retain the first activity_id\n",
    "    'assay_chembl_id': 'first',  # Retain the first assay_chembl_id\n",
    "    'assay_description': 'first',  # Retain the first assay_description\n",
    "    'assay_type': 'first',  # Retain the first assay_type\n",
    "    'relation': 'first',  # Retain the first relation\n",
    "    'standard_units': 'first',  # Retain the first standard_units\n",
    "    'target_chembl_id': 'first',  # Retain the first target_chembl_id\n",
    "    'target_organism': 'first',  # Retain the first target_organism\n",
    "    'type': 'first'  # Retain the first type\n",
    "})\n"
   ]
  },
  {
   "cell_type": "code",
   "execution_count": 154,
   "id": "a362c8a5-8228-4067-a607-7e911b1e7986",
   "metadata": {},
   "outputs": [],
   "source": [
    "# Create a new column for the mean standard_value\n",
    "mean_df['mean_standard_value'] = mean_df['standard_value']"
   ]
  },
  {
   "cell_type": "code",
   "execution_count": 155,
   "id": "8f85d41e-91e3-430a-a080-61ccece6af07",
   "metadata": {},
   "outputs": [
    {
     "name": "stdout",
     "output_type": "stream",
     "text": [
      "Aggregated DataFrame shape: (1455, 12)\n"
     ]
    },
    {
     "data": {
      "text/html": [
       "<div>\n",
       "<style scoped>\n",
       "    .dataframe tbody tr th:only-of-type {\n",
       "        vertical-align: middle;\n",
       "    }\n",
       "\n",
       "    .dataframe tbody tr th {\n",
       "        vertical-align: top;\n",
       "    }\n",
       "\n",
       "    .dataframe thead th {\n",
       "        text-align: right;\n",
       "    }\n",
       "</style>\n",
       "<table border=\"1\" class=\"dataframe\">\n",
       "  <thead>\n",
       "    <tr style=\"text-align: right;\">\n",
       "      <th></th>\n",
       "      <th>molecule_chembl_id</th>\n",
       "      <th>standard_value</th>\n",
       "      <th>activity_id</th>\n",
       "      <th>assay_chembl_id</th>\n",
       "      <th>assay_description</th>\n",
       "      <th>assay_type</th>\n",
       "      <th>relation</th>\n",
       "      <th>standard_units</th>\n",
       "      <th>target_chembl_id</th>\n",
       "      <th>target_organism</th>\n",
       "      <th>type</th>\n",
       "      <th>mean_standard_value</th>\n",
       "    </tr>\n",
       "  </thead>\n",
       "  <tbody>\n",
       "    <tr>\n",
       "      <th>0</th>\n",
       "      <td>CHEMBL103299</td>\n",
       "      <td>77.0</td>\n",
       "      <td>25554594</td>\n",
       "      <td>CHEMBL5346746</td>\n",
       "      <td>Inhibition of SARS-Cov-2 main protease using f...</td>\n",
       "      <td>B</td>\n",
       "      <td>=</td>\n",
       "      <td>nM</td>\n",
       "      <td>CHEMBL4523582</td>\n",
       "      <td>Severe acute respiratory syndrome coronavirus 2</td>\n",
       "      <td>IC50</td>\n",
       "      <td>77.0</td>\n",
       "    </tr>\n",
       "    <tr>\n",
       "      <th>1</th>\n",
       "      <td>CHEMBL1082333</td>\n",
       "      <td>6100.0</td>\n",
       "      <td>25087282</td>\n",
       "      <td>CHEMBL5257312</td>\n",
       "      <td>Inhibition of SARS-CoV-2 3CL protease</td>\n",
       "      <td>B</td>\n",
       "      <td>=</td>\n",
       "      <td>nM</td>\n",
       "      <td>CHEMBL4523582</td>\n",
       "      <td>Severe acute respiratory syndrome coronavirus 2</td>\n",
       "      <td>IC50</td>\n",
       "      <td>6100.0</td>\n",
       "    </tr>\n",
       "    <tr>\n",
       "      <th>2</th>\n",
       "      <td>CHEMBL1096283</td>\n",
       "      <td>260.0</td>\n",
       "      <td>25051214</td>\n",
       "      <td>CHEMBL5247358</td>\n",
       "      <td>Inhibition of N-terminal MBP-tagged SARS CoV-2...</td>\n",
       "      <td>B</td>\n",
       "      <td>=</td>\n",
       "      <td>nM</td>\n",
       "      <td>CHEMBL4523582</td>\n",
       "      <td>Severe acute respiratory syndrome coronavirus 2</td>\n",
       "      <td>IC50</td>\n",
       "      <td>260.0</td>\n",
       "    </tr>\n",
       "    <tr>\n",
       "      <th>3</th>\n",
       "      <td>CHEMBL1116</td>\n",
       "      <td>5610.0</td>\n",
       "      <td>25516580</td>\n",
       "      <td>CHEMBL5336352</td>\n",
       "      <td>Inhibition of N-terminal His-tagged SARS-CoV-2...</td>\n",
       "      <td>B</td>\n",
       "      <td>=</td>\n",
       "      <td>nM</td>\n",
       "      <td>CHEMBL4523582</td>\n",
       "      <td>Severe acute respiratory syndrome coronavirus 2</td>\n",
       "      <td>IC50</td>\n",
       "      <td>5610.0</td>\n",
       "    </tr>\n",
       "    <tr>\n",
       "      <th>4</th>\n",
       "      <td>CHEMBL117102</td>\n",
       "      <td>14400.0</td>\n",
       "      <td>25609263</td>\n",
       "      <td>CHEMBL5360285</td>\n",
       "      <td>Inhibition of recombinant SARS-CoV-2 3CLPro DA...</td>\n",
       "      <td>B</td>\n",
       "      <td>=</td>\n",
       "      <td>nM</td>\n",
       "      <td>CHEMBL4523582</td>\n",
       "      <td>Severe acute respiratory syndrome coronavirus 2</td>\n",
       "      <td>IC50</td>\n",
       "      <td>14400.0</td>\n",
       "    </tr>\n",
       "  </tbody>\n",
       "</table>\n",
       "</div>"
      ],
      "text/plain": [
       "  molecule_chembl_id  standard_value  activity_id assay_chembl_id  \\\n",
       "0       CHEMBL103299            77.0     25554594   CHEMBL5346746   \n",
       "1      CHEMBL1082333          6100.0     25087282   CHEMBL5257312   \n",
       "2      CHEMBL1096283           260.0     25051214   CHEMBL5247358   \n",
       "3         CHEMBL1116          5610.0     25516580   CHEMBL5336352   \n",
       "4       CHEMBL117102         14400.0     25609263   CHEMBL5360285   \n",
       "\n",
       "                                   assay_description assay_type relation  \\\n",
       "0  Inhibition of SARS-Cov-2 main protease using f...          B        =   \n",
       "1              Inhibition of SARS-CoV-2 3CL protease          B        =   \n",
       "2  Inhibition of N-terminal MBP-tagged SARS CoV-2...          B        =   \n",
       "3  Inhibition of N-terminal His-tagged SARS-CoV-2...          B        =   \n",
       "4  Inhibition of recombinant SARS-CoV-2 3CLPro DA...          B        =   \n",
       "\n",
       "  standard_units target_chembl_id  \\\n",
       "0             nM    CHEMBL4523582   \n",
       "1             nM    CHEMBL4523582   \n",
       "2             nM    CHEMBL4523582   \n",
       "3             nM    CHEMBL4523582   \n",
       "4             nM    CHEMBL4523582   \n",
       "\n",
       "                                   target_organism  type  mean_standard_value  \n",
       "0  Severe acute respiratory syndrome coronavirus 2  IC50                 77.0  \n",
       "1  Severe acute respiratory syndrome coronavirus 2  IC50               6100.0  \n",
       "2  Severe acute respiratory syndrome coronavirus 2  IC50                260.0  \n",
       "3  Severe acute respiratory syndrome coronavirus 2  IC50               5610.0  \n",
       "4  Severe acute respiratory syndrome coronavirus 2  IC50              14400.0  "
      ]
     },
     "execution_count": 155,
     "metadata": {},
     "output_type": "execute_result"
    }
   ],
   "source": [
    "# Display the aggregated DataFrame\n",
    "print(f\"Aggregated DataFrame shape: {mean_df.shape}\")\n",
    "mean_df.head()"
   ]
  },
  {
   "cell_type": "code",
   "execution_count": 156,
   "id": "3f86b7a1-82ef-4570-9921-091d0925b7ab",
   "metadata": {},
   "outputs": [
    {
     "data": {
      "text/html": [
       "<div>\n",
       "<style scoped>\n",
       "    .dataframe tbody tr th:only-of-type {\n",
       "        vertical-align: middle;\n",
       "    }\n",
       "\n",
       "    .dataframe tbody tr th {\n",
       "        vertical-align: top;\n",
       "    }\n",
       "\n",
       "    .dataframe thead th {\n",
       "        text-align: right;\n",
       "    }\n",
       "</style>\n",
       "<table border=\"1\" class=\"dataframe\">\n",
       "  <thead>\n",
       "    <tr style=\"text-align: right;\">\n",
       "      <th></th>\n",
       "      <th>molecule_chembl_id</th>\n",
       "      <th>standard_value</th>\n",
       "      <th>activity_id</th>\n",
       "      <th>assay_chembl_id</th>\n",
       "      <th>assay_description</th>\n",
       "      <th>assay_type</th>\n",
       "      <th>relation</th>\n",
       "      <th>standard_units</th>\n",
       "      <th>target_chembl_id</th>\n",
       "      <th>target_organism</th>\n",
       "      <th>type</th>\n",
       "      <th>mean_standard_value</th>\n",
       "    </tr>\n",
       "  </thead>\n",
       "  <tbody>\n",
       "    <tr>\n",
       "      <th>0</th>\n",
       "      <td>CHEMBL103299</td>\n",
       "      <td>77.0</td>\n",
       "      <td>25554594</td>\n",
       "      <td>CHEMBL5346746</td>\n",
       "      <td>Inhibition of SARS-Cov-2 main protease using f...</td>\n",
       "      <td>B</td>\n",
       "      <td>=</td>\n",
       "      <td>nM</td>\n",
       "      <td>CHEMBL4523582</td>\n",
       "      <td>Severe acute respiratory syndrome coronavirus 2</td>\n",
       "      <td>IC50</td>\n",
       "      <td>77.0</td>\n",
       "    </tr>\n",
       "    <tr>\n",
       "      <th>1</th>\n",
       "      <td>CHEMBL1082333</td>\n",
       "      <td>6100.0</td>\n",
       "      <td>25087282</td>\n",
       "      <td>CHEMBL5257312</td>\n",
       "      <td>Inhibition of SARS-CoV-2 3CL protease</td>\n",
       "      <td>B</td>\n",
       "      <td>=</td>\n",
       "      <td>nM</td>\n",
       "      <td>CHEMBL4523582</td>\n",
       "      <td>Severe acute respiratory syndrome coronavirus 2</td>\n",
       "      <td>IC50</td>\n",
       "      <td>6100.0</td>\n",
       "    </tr>\n",
       "    <tr>\n",
       "      <th>2</th>\n",
       "      <td>CHEMBL1096283</td>\n",
       "      <td>260.0</td>\n",
       "      <td>25051214</td>\n",
       "      <td>CHEMBL5247358</td>\n",
       "      <td>Inhibition of N-terminal MBP-tagged SARS CoV-2...</td>\n",
       "      <td>B</td>\n",
       "      <td>=</td>\n",
       "      <td>nM</td>\n",
       "      <td>CHEMBL4523582</td>\n",
       "      <td>Severe acute respiratory syndrome coronavirus 2</td>\n",
       "      <td>IC50</td>\n",
       "      <td>260.0</td>\n",
       "    </tr>\n",
       "    <tr>\n",
       "      <th>3</th>\n",
       "      <td>CHEMBL1116</td>\n",
       "      <td>5610.0</td>\n",
       "      <td>25516580</td>\n",
       "      <td>CHEMBL5336352</td>\n",
       "      <td>Inhibition of N-terminal His-tagged SARS-CoV-2...</td>\n",
       "      <td>B</td>\n",
       "      <td>=</td>\n",
       "      <td>nM</td>\n",
       "      <td>CHEMBL4523582</td>\n",
       "      <td>Severe acute respiratory syndrome coronavirus 2</td>\n",
       "      <td>IC50</td>\n",
       "      <td>5610.0</td>\n",
       "    </tr>\n",
       "    <tr>\n",
       "      <th>4</th>\n",
       "      <td>CHEMBL117102</td>\n",
       "      <td>14400.0</td>\n",
       "      <td>25609263</td>\n",
       "      <td>CHEMBL5360285</td>\n",
       "      <td>Inhibition of recombinant SARS-CoV-2 3CLPro DA...</td>\n",
       "      <td>B</td>\n",
       "      <td>=</td>\n",
       "      <td>nM</td>\n",
       "      <td>CHEMBL4523582</td>\n",
       "      <td>Severe acute respiratory syndrome coronavirus 2</td>\n",
       "      <td>IC50</td>\n",
       "      <td>14400.0</td>\n",
       "    </tr>\n",
       "  </tbody>\n",
       "</table>\n",
       "</div>"
      ],
      "text/plain": [
       "  molecule_chembl_id  standard_value  activity_id assay_chembl_id  \\\n",
       "0       CHEMBL103299            77.0     25554594   CHEMBL5346746   \n",
       "1      CHEMBL1082333          6100.0     25087282   CHEMBL5257312   \n",
       "2      CHEMBL1096283           260.0     25051214   CHEMBL5247358   \n",
       "3         CHEMBL1116          5610.0     25516580   CHEMBL5336352   \n",
       "4       CHEMBL117102         14400.0     25609263   CHEMBL5360285   \n",
       "\n",
       "                                   assay_description assay_type relation  \\\n",
       "0  Inhibition of SARS-Cov-2 main protease using f...          B        =   \n",
       "1              Inhibition of SARS-CoV-2 3CL protease          B        =   \n",
       "2  Inhibition of N-terminal MBP-tagged SARS CoV-2...          B        =   \n",
       "3  Inhibition of N-terminal His-tagged SARS-CoV-2...          B        =   \n",
       "4  Inhibition of recombinant SARS-CoV-2 3CLPro DA...          B        =   \n",
       "\n",
       "  standard_units target_chembl_id  \\\n",
       "0             nM    CHEMBL4523582   \n",
       "1             nM    CHEMBL4523582   \n",
       "2             nM    CHEMBL4523582   \n",
       "3             nM    CHEMBL4523582   \n",
       "4             nM    CHEMBL4523582   \n",
       "\n",
       "                                   target_organism  type  mean_standard_value  \n",
       "0  Severe acute respiratory syndrome coronavirus 2  IC50                 77.0  \n",
       "1  Severe acute respiratory syndrome coronavirus 2  IC50               6100.0  \n",
       "2  Severe acute respiratory syndrome coronavirus 2  IC50                260.0  \n",
       "3  Severe acute respiratory syndrome coronavirus 2  IC50               5610.0  \n",
       "4  Severe acute respiratory syndrome coronavirus 2  IC50              14400.0  "
      ]
     },
     "execution_count": 156,
     "metadata": {},
     "output_type": "execute_result"
    }
   ],
   "source": [
    "# Reset the DataFrame index \n",
    "mean_df.reset_index(drop=True, inplace=True)\n",
    "mean_df.head()"
   ]
  },
  {
   "cell_type": "code",
   "execution_count": 157,
   "id": "6b80fe8a-d5a2-4db5-8d41-69930413e84e",
   "metadata": {},
   "outputs": [],
   "source": [
    "#Separate DataFrames for IC50 and Ki\n",
    "ic50_df = mean_df[mean_df[\"type\"] == \"IC50\"].copy()\n",
    "Ki_df = mean_df[mean_df[\"type\"] == \"Ki\"].copy()"
   ]
  },
  {
   "cell_type": "code",
   "execution_count": 158,
   "id": "2192c689-0099-48b2-bad4-e1a470b6cf13",
   "metadata": {},
   "outputs": [],
   "source": [
    "#Reset the Index for both\n",
    "ic50_df.reset_index(drop=True, inplace = True)\n",
    "Ki_df.reset_index(drop=True, inplace = True)"
   ]
  },
  {
   "cell_type": "code",
   "execution_count": 159,
   "id": "24d7ad90-8b05-4b13-af15-01aece2989a2",
   "metadata": {},
   "outputs": [
    {
     "data": {
      "text/plain": [
       "(1419, 12)"
      ]
     },
     "execution_count": 159,
     "metadata": {},
     "output_type": "execute_result"
    }
   ],
   "source": [
    "ic50_df.shape"
   ]
  },
  {
   "cell_type": "code",
   "execution_count": 160,
   "id": "1ea7842b-f3ec-48b5-afe7-9bdfa9b9a02e",
   "metadata": {},
   "outputs": [
    {
     "data": {
      "text/plain": [
       "(36, 12)"
      ]
     },
     "execution_count": 160,
     "metadata": {},
     "output_type": "execute_result"
    }
   ],
   "source": [
    "Ki_df.shape"
   ]
  },
  {
   "cell_type": "code",
   "execution_count": 161,
   "id": "9f8d85f3-892b-4c40-870f-561176b1a4a4",
   "metadata": {},
   "outputs": [],
   "source": [
    "#Calculate pIC50 and pKi\n",
    "ic50_df['pIC50'] = -np.log10(ic50_df['mean_standard_value'] * 1e-9) \n",
    "Ki_df['pKi'] = -np.log10(Ki_df['mean_standard_value'] * 1e-9) "
   ]
  },
  {
   "cell_type": "code",
   "execution_count": 162,
   "id": "f469bb1b-404d-4817-980e-51cfe646425f",
   "metadata": {},
   "outputs": [],
   "source": [
    "#Combine the p-values\n",
    "combined_bioactivities_df = pd.concat([ic50_df, Ki_df], ignore_index=True)"
   ]
  },
  {
   "cell_type": "code",
   "execution_count": 163,
   "id": "5dca606e-b861-482f-9ca8-add2e5938cd8",
   "metadata": {},
   "outputs": [
    {
     "data": {
      "text/html": [
       "<div>\n",
       "<style scoped>\n",
       "    .dataframe tbody tr th:only-of-type {\n",
       "        vertical-align: middle;\n",
       "    }\n",
       "\n",
       "    .dataframe tbody tr th {\n",
       "        vertical-align: top;\n",
       "    }\n",
       "\n",
       "    .dataframe thead th {\n",
       "        text-align: right;\n",
       "    }\n",
       "</style>\n",
       "<table border=\"1\" class=\"dataframe\">\n",
       "  <thead>\n",
       "    <tr style=\"text-align: right;\">\n",
       "      <th></th>\n",
       "      <th>molecule_chembl_id</th>\n",
       "      <th>standard_value</th>\n",
       "      <th>activity_id</th>\n",
       "      <th>assay_chembl_id</th>\n",
       "      <th>assay_description</th>\n",
       "      <th>assay_type</th>\n",
       "      <th>relation</th>\n",
       "      <th>standard_units</th>\n",
       "      <th>target_chembl_id</th>\n",
       "      <th>target_organism</th>\n",
       "      <th>type</th>\n",
       "      <th>mean_standard_value</th>\n",
       "      <th>pIC50</th>\n",
       "      <th>pKi</th>\n",
       "    </tr>\n",
       "  </thead>\n",
       "  <tbody>\n",
       "    <tr>\n",
       "      <th>0</th>\n",
       "      <td>CHEMBL103299</td>\n",
       "      <td>77.0</td>\n",
       "      <td>25554594</td>\n",
       "      <td>CHEMBL5346746</td>\n",
       "      <td>Inhibition of SARS-Cov-2 main protease using f...</td>\n",
       "      <td>B</td>\n",
       "      <td>=</td>\n",
       "      <td>nM</td>\n",
       "      <td>CHEMBL4523582</td>\n",
       "      <td>Severe acute respiratory syndrome coronavirus 2</td>\n",
       "      <td>IC50</td>\n",
       "      <td>77.0</td>\n",
       "      <td>7.113509</td>\n",
       "      <td>NaN</td>\n",
       "    </tr>\n",
       "    <tr>\n",
       "      <th>1</th>\n",
       "      <td>CHEMBL1082333</td>\n",
       "      <td>6100.0</td>\n",
       "      <td>25087282</td>\n",
       "      <td>CHEMBL5257312</td>\n",
       "      <td>Inhibition of SARS-CoV-2 3CL protease</td>\n",
       "      <td>B</td>\n",
       "      <td>=</td>\n",
       "      <td>nM</td>\n",
       "      <td>CHEMBL4523582</td>\n",
       "      <td>Severe acute respiratory syndrome coronavirus 2</td>\n",
       "      <td>IC50</td>\n",
       "      <td>6100.0</td>\n",
       "      <td>5.214670</td>\n",
       "      <td>NaN</td>\n",
       "    </tr>\n",
       "    <tr>\n",
       "      <th>2</th>\n",
       "      <td>CHEMBL1096283</td>\n",
       "      <td>260.0</td>\n",
       "      <td>25051214</td>\n",
       "      <td>CHEMBL5247358</td>\n",
       "      <td>Inhibition of N-terminal MBP-tagged SARS CoV-2...</td>\n",
       "      <td>B</td>\n",
       "      <td>=</td>\n",
       "      <td>nM</td>\n",
       "      <td>CHEMBL4523582</td>\n",
       "      <td>Severe acute respiratory syndrome coronavirus 2</td>\n",
       "      <td>IC50</td>\n",
       "      <td>260.0</td>\n",
       "      <td>6.585027</td>\n",
       "      <td>NaN</td>\n",
       "    </tr>\n",
       "    <tr>\n",
       "      <th>3</th>\n",
       "      <td>CHEMBL1116</td>\n",
       "      <td>5610.0</td>\n",
       "      <td>25516580</td>\n",
       "      <td>CHEMBL5336352</td>\n",
       "      <td>Inhibition of N-terminal His-tagged SARS-CoV-2...</td>\n",
       "      <td>B</td>\n",
       "      <td>=</td>\n",
       "      <td>nM</td>\n",
       "      <td>CHEMBL4523582</td>\n",
       "      <td>Severe acute respiratory syndrome coronavirus 2</td>\n",
       "      <td>IC50</td>\n",
       "      <td>5610.0</td>\n",
       "      <td>5.251037</td>\n",
       "      <td>NaN</td>\n",
       "    </tr>\n",
       "    <tr>\n",
       "      <th>4</th>\n",
       "      <td>CHEMBL117102</td>\n",
       "      <td>14400.0</td>\n",
       "      <td>25609263</td>\n",
       "      <td>CHEMBL5360285</td>\n",
       "      <td>Inhibition of recombinant SARS-CoV-2 3CLPro DA...</td>\n",
       "      <td>B</td>\n",
       "      <td>=</td>\n",
       "      <td>nM</td>\n",
       "      <td>CHEMBL4523582</td>\n",
       "      <td>Severe acute respiratory syndrome coronavirus 2</td>\n",
       "      <td>IC50</td>\n",
       "      <td>14400.0</td>\n",
       "      <td>4.841638</td>\n",
       "      <td>NaN</td>\n",
       "    </tr>\n",
       "  </tbody>\n",
       "</table>\n",
       "</div>"
      ],
      "text/plain": [
       "  molecule_chembl_id  standard_value  activity_id assay_chembl_id  \\\n",
       "0       CHEMBL103299            77.0     25554594   CHEMBL5346746   \n",
       "1      CHEMBL1082333          6100.0     25087282   CHEMBL5257312   \n",
       "2      CHEMBL1096283           260.0     25051214   CHEMBL5247358   \n",
       "3         CHEMBL1116          5610.0     25516580   CHEMBL5336352   \n",
       "4       CHEMBL117102         14400.0     25609263   CHEMBL5360285   \n",
       "\n",
       "                                   assay_description assay_type relation  \\\n",
       "0  Inhibition of SARS-Cov-2 main protease using f...          B        =   \n",
       "1              Inhibition of SARS-CoV-2 3CL protease          B        =   \n",
       "2  Inhibition of N-terminal MBP-tagged SARS CoV-2...          B        =   \n",
       "3  Inhibition of N-terminal His-tagged SARS-CoV-2...          B        =   \n",
       "4  Inhibition of recombinant SARS-CoV-2 3CLPro DA...          B        =   \n",
       "\n",
       "  standard_units target_chembl_id  \\\n",
       "0             nM    CHEMBL4523582   \n",
       "1             nM    CHEMBL4523582   \n",
       "2             nM    CHEMBL4523582   \n",
       "3             nM    CHEMBL4523582   \n",
       "4             nM    CHEMBL4523582   \n",
       "\n",
       "                                   target_organism  type  mean_standard_value  \\\n",
       "0  Severe acute respiratory syndrome coronavirus 2  IC50                 77.0   \n",
       "1  Severe acute respiratory syndrome coronavirus 2  IC50               6100.0   \n",
       "2  Severe acute respiratory syndrome coronavirus 2  IC50                260.0   \n",
       "3  Severe acute respiratory syndrome coronavirus 2  IC50               5610.0   \n",
       "4  Severe acute respiratory syndrome coronavirus 2  IC50              14400.0   \n",
       "\n",
       "      pIC50  pKi  \n",
       "0  7.113509  NaN  \n",
       "1  5.214670  NaN  \n",
       "2  6.585027  NaN  \n",
       "3  5.251037  NaN  \n",
       "4  4.841638  NaN  "
      ]
     },
     "execution_count": 163,
     "metadata": {},
     "output_type": "execute_result"
    }
   ],
   "source": [
    "combined_bioactivities_df.head()"
   ]
  },
  {
   "cell_type": "markdown",
   "id": "635086b2-58d5-4651-acdc-c4c3fe44fd09",
   "metadata": {},
   "source": [
    "##### **5. Retrieve Compound Data**\n",
    "\n",
    "-   **Fetch Compound Structures:** Use `molecule_chembl_id` to retrieve molecular structures (canonical SMILES) from ChEMBL."
   ]
  },
  {
   "cell_type": "code",
   "execution_count": 164,
   "id": "9dda44cb-7f01-4bfb-8b99-caa5bc08828c",
   "metadata": {},
   "outputs": [],
   "source": [
    "# Fetch Compound data\n",
    "compounds_provider = compounds_api.filter(\n",
    "    molecule_chembl_id__in=list(combined_bioactivities_df[\"molecule_chembl_id\"])\n",
    ").only(\"molecule_chembl_id\", \"molecule_structures\")"
   ]
  },
  {
   "cell_type": "code",
   "execution_count": 165,
   "id": "d82bca7a-05ef-40d6-aa1a-8e57c6addbd5",
   "metadata": {},
   "outputs": [
    {
     "data": {
      "application/vnd.jupyter.widget-view+json": {
       "model_id": "153312d021274f86a081a719979179b1",
       "version_major": 2,
       "version_minor": 0
      },
      "text/plain": [
       "  0%|          | 0/1455 [00:00<?, ?it/s]"
      ]
     },
     "metadata": {},
     "output_type": "display_data"
    }
   ],
   "source": [
    "#Convert the Query to a list with a progress bar for tracking.\n",
    "compounds = list(tqdm(compounds_provider))"
   ]
  },
  {
   "cell_type": "code",
   "execution_count": 166,
   "id": "d98dad17-928a-46dd-b978-cccecc9fb426",
   "metadata": {},
   "outputs": [],
   "source": [
    "# Convert the compounds data to a DataFrame\n",
    "compounds_df = pd.DataFrame.from_records(compounds)"
   ]
  },
  {
   "cell_type": "code",
   "execution_count": 167,
   "id": "bda94209-98b5-4a26-b223-e41951d60040",
   "metadata": {},
   "outputs": [
    {
     "data": {
      "text/plain": [
       "(1455, 2)"
      ]
     },
     "execution_count": 167,
     "metadata": {},
     "output_type": "execute_result"
    }
   ],
   "source": [
    "compounds_df.shape"
   ]
  },
  {
   "cell_type": "code",
   "execution_count": 168,
   "id": "e9d2bcfe-bca7-4f37-b065-807edcf1d1d8",
   "metadata": {},
   "outputs": [
    {
     "data": {
      "text/html": [
       "<div>\n",
       "<style scoped>\n",
       "    .dataframe tbody tr th:only-of-type {\n",
       "        vertical-align: middle;\n",
       "    }\n",
       "\n",
       "    .dataframe tbody tr th {\n",
       "        vertical-align: top;\n",
       "    }\n",
       "\n",
       "    .dataframe thead th {\n",
       "        text-align: right;\n",
       "    }\n",
       "</style>\n",
       "<table border=\"1\" class=\"dataframe\">\n",
       "  <thead>\n",
       "    <tr style=\"text-align: right;\">\n",
       "      <th></th>\n",
       "      <th>molecule_chembl_id</th>\n",
       "      <th>molecule_structures</th>\n",
       "    </tr>\n",
       "  </thead>\n",
       "  <tbody>\n",
       "    <tr>\n",
       "      <th>0</th>\n",
       "      <td>CHEMBL456</td>\n",
       "      <td>{'canonical_smiles': 'C=C(CC)C(=O)c1ccc(OCC(=O...</td>\n",
       "    </tr>\n",
       "    <tr>\n",
       "      <th>1</th>\n",
       "      <td>CHEMBL8260</td>\n",
       "      <td>{'canonical_smiles': 'O=c1cc(-c2ccccc2)oc2cc(O...</td>\n",
       "    </tr>\n",
       "  </tbody>\n",
       "</table>\n",
       "</div>"
      ],
      "text/plain": [
       "  molecule_chembl_id                                molecule_structures\n",
       "0          CHEMBL456  {'canonical_smiles': 'C=C(CC)C(=O)c1ccc(OCC(=O...\n",
       "1         CHEMBL8260  {'canonical_smiles': 'O=c1cc(-c2ccccc2)oc2cc(O..."
      ]
     },
     "execution_count": 168,
     "metadata": {},
     "output_type": "execute_result"
    }
   ],
   "source": [
    "compounds_df.head(2)"
   ]
  },
  {
   "cell_type": "code",
   "execution_count": 169,
   "id": "fc02b7b6-da40-4563-b08a-7497b63b0e17",
   "metadata": {},
   "outputs": [
    {
     "data": {
      "text/plain": [
       "(1453, 2)"
      ]
     },
     "execution_count": 169,
     "metadata": {},
     "output_type": "execute_result"
    }
   ],
   "source": [
    "#Remove entries with missing molecule structure entry\n",
    "compounds_df.dropna(axis=0, how=\"any\", inplace=True)\n",
    "compounds_df.shape"
   ]
  },
  {
   "cell_type": "code",
   "execution_count": 170,
   "id": "233927a5-daa8-409e-a0be-706c0e72d60d",
   "metadata": {},
   "outputs": [
    {
     "data": {
      "text/plain": [
       "molecule_chembl_id\n",
       "CHEMBL456        1\n",
       "CHEMBL5281998    1\n",
       "CHEMBL5281483    1\n",
       "CHEMBL5281399    1\n",
       "CHEMBL5281103    1\n",
       "                ..\n",
       "CHEMBL5182841    1\n",
       "CHEMBL5182830    1\n",
       "CHEMBL5182801    1\n",
       "CHEMBL5182755    1\n",
       "CHEMBL5441037    1\n",
       "Name: count, Length: 1453, dtype: int64"
      ]
     },
     "execution_count": 170,
     "metadata": {},
     "output_type": "execute_result"
    }
   ],
   "source": [
    "#Check the value counts\n",
    "compounds_df[\"molecule_chembl_id\"].value_counts()"
   ]
  },
  {
   "cell_type": "code",
   "execution_count": 171,
   "id": "4ce32293-34bf-4632-a329-45e7c42a7a6f",
   "metadata": {},
   "outputs": [
    {
     "data": {
      "text/plain": [
       "dict_keys(['canonical_smiles', 'molfile', 'standard_inchi', 'standard_inchi_key'])"
      ]
     },
     "execution_count": 171,
     "metadata": {},
     "output_type": "execute_result"
    }
   ],
   "source": [
    "# Inspect the structure of molecule_structures\n",
    "compounds_df.iloc[0].molecule_structures.keys()"
   ]
  },
  {
   "cell_type": "code",
   "execution_count": 172,
   "id": "285155a5-99f4-45e6-9880-45e30c9edac5",
   "metadata": {},
   "outputs": [],
   "source": [
    "# Extract canonical SMILES from molecule structures\n",
    "canonical_smiles = []  # Initialize list to store SMILES\n",
    "\n",
    "# Iterate through rows and extract canonical SMILES\n",
    "for i, compounds in compounds_df.iterrows():\n",
    "    try:\n",
    "        canonical_smiles.append(compounds[\"molecule_structures\"][\"canonical_smiles\"])\n",
    "    except KeyError:\n",
    "        canonical_smiles.append(None)  # Handle missing SMILES\n",
    "\n",
    "compounds_df[\"smiles\"] = canonical_smiles  # Add SMILES column\n",
    "compounds_df.drop(\"molecule_structures\", axis=1, inplace=True)  # Remove original structure column\n"
   ]
  },
  {
   "cell_type": "code",
   "execution_count": 173,
   "id": "203dfa8d-fbb7-4ca1-ab7f-38f47eebefff",
   "metadata": {},
   "outputs": [
    {
     "data": {
      "text/plain": [
       "(1453, 2)"
      ]
     },
     "execution_count": 173,
     "metadata": {},
     "output_type": "execute_result"
    }
   ],
   "source": [
    "compounds_df.shape #print new dataframe shape."
   ]
  },
  {
   "cell_type": "code",
   "execution_count": 174,
   "id": "ee7ceafc-81a8-494d-9fb6-0736a84234a7",
   "metadata": {},
   "outputs": [
    {
     "name": "stdout",
     "output_type": "stream",
     "text": [
      "DataFrame shape: (1453, 2)\n"
     ]
    }
   ],
   "source": [
    "#Remove all molecules without a canonical SMILES string if prese\n",
    "compounds_df.dropna(axis=0, how=\"any\", inplace=True)\n",
    "print(f\"DataFrame shape: {compounds_df.shape}\")"
   ]
  },
  {
   "cell_type": "code",
   "execution_count": 175,
   "id": "4c38e441-a3a1-4d56-9257-b5455526850b",
   "metadata": {},
   "outputs": [
    {
     "name": "stdout",
     "output_type": "stream",
     "text": [
      "Bioactivities filtered: 1455\n"
     ]
    },
    {
     "data": {
      "text/plain": [
       "Index(['molecule_chembl_id', 'standard_value', 'activity_id',\n",
       "       'assay_chembl_id', 'assay_description', 'assay_type', 'relation',\n",
       "       'standard_units', 'target_chembl_id', 'target_organism', 'type',\n",
       "       'mean_standard_value', 'pIC50', 'pKi'],\n",
       "      dtype='object')"
      ]
     },
     "execution_count": 175,
     "metadata": {},
     "output_type": "execute_result"
    }
   ],
   "source": [
    "# Summary of bioactivity data output\n",
    "print(f\"Bioactivities filtered: {combined_bioactivities_df.shape[0]}\")\n",
    "combined_bioactivities_df.columns"
   ]
  },
  {
   "cell_type": "code",
   "execution_count": 176,
   "id": "f89ce67a-fc76-477a-9736-eca3a8ec49f2",
   "metadata": {},
   "outputs": [
    {
     "name": "stdout",
     "output_type": "stream",
     "text": [
      "compound filtered: 1453\n"
     ]
    },
    {
     "data": {
      "text/plain": [
       "Index(['molecule_chembl_id', 'smiles'], dtype='object')"
      ]
     },
     "execution_count": 176,
     "metadata": {},
     "output_type": "execute_result"
    }
   ],
   "source": [
    "# Summary of compound data output\n",
    "print(f\"compound filtered: {compounds_df.shape[0]}\")\n",
    "compounds_df.columns"
   ]
  },
  {
   "cell_type": "markdown",
   "id": "981f31b8-a2bd-41d2-a9dd-3b11a9a92359",
   "metadata": {},
   "source": [
    "##### **6. Merge Bioactivity & Compound Data**\n",
    "\n",
    "-   **Combine DataFrames:** Merge `combined_bioactivities_df` and `compounds_df` based on `molecule_chembl_id` using a left merge.\n",
    "-   **Select Key Columns:** Retain `molecule_chembl_id`, `smiles`, `standard_units`, `pIC50`, and `pKi`."
   ]
  },
  {
   "cell_type": "code",
   "execution_count": 177,
   "id": "95d0617f-32cc-4924-b392-7baecc398347",
   "metadata": {},
   "outputs": [],
   "source": [
    "# Merge bioactivity and compound data on 'molecule_chembl_id'.\n",
    "output_df = pd.merge(combined_bioactivities_df, compounds_df, on=\"molecule_chembl_id\", how='left')"
   ]
  },
  {
   "cell_type": "code",
   "execution_count": 178,
   "id": "22f45e60-5a88-4ac0-a5e0-854e5737c40a",
   "metadata": {},
   "outputs": [],
   "source": [
    "#Select the unique Columns:\n",
    "output_df = output_df[['molecule_chembl_id', 'smiles', 'standard_units', 'pIC50', 'pKi']]"
   ]
  },
  {
   "cell_type": "code",
   "execution_count": 179,
   "id": "a2bc8c86-c912-44db-9aad-f5005e39f337",
   "metadata": {},
   "outputs": [
    {
     "name": "stdout",
     "output_type": "stream",
     "text": [
      "Dataset with 1455 entries.\n"
     ]
    }
   ],
   "source": [
    "# Reset row indices after merging and print the resulting dataset size.\n",
    "output_df.reset_index(drop=True, inplace=True)\n",
    "print(f\"Dataset with {output_df.shape[0]} entries.\")"
   ]
  },
  {
   "cell_type": "code",
   "execution_count": 180,
   "id": "0e5c1046-3d78-4f07-8619-5b7f35f43833",
   "metadata": {},
   "outputs": [
    {
     "data": {
      "text/html": [
       "<div>\n",
       "<style scoped>\n",
       "    .dataframe tbody tr th:only-of-type {\n",
       "        vertical-align: middle;\n",
       "    }\n",
       "\n",
       "    .dataframe tbody tr th {\n",
       "        vertical-align: top;\n",
       "    }\n",
       "\n",
       "    .dataframe thead th {\n",
       "        text-align: right;\n",
       "    }\n",
       "</style>\n",
       "<table border=\"1\" class=\"dataframe\">\n",
       "  <thead>\n",
       "    <tr style=\"text-align: right;\">\n",
       "      <th></th>\n",
       "      <th>molecule_chembl_id</th>\n",
       "      <th>smiles</th>\n",
       "      <th>standard_units</th>\n",
       "      <th>pIC50</th>\n",
       "      <th>pKi</th>\n",
       "    </tr>\n",
       "  </thead>\n",
       "  <tbody>\n",
       "    <tr>\n",
       "      <th>0</th>\n",
       "      <td>CHEMBL103299</td>\n",
       "      <td>Cc1ccc(CCN)cc1</td>\n",
       "      <td>nM</td>\n",
       "      <td>7.113509</td>\n",
       "      <td>NaN</td>\n",
       "    </tr>\n",
       "    <tr>\n",
       "      <th>1</th>\n",
       "      <td>CHEMBL1082333</td>\n",
       "      <td>N#Cc1c(-c2ccc(Cl)cc2)nc(SCc2ccc([N+](=O)[O-])c...</td>\n",
       "      <td>nM</td>\n",
       "      <td>5.214670</td>\n",
       "      <td>NaN</td>\n",
       "    </tr>\n",
       "    <tr>\n",
       "      <th>2</th>\n",
       "      <td>CHEMBL1096283</td>\n",
       "      <td>Cn1nc(-c2ccc(C(F)(F)F)cc2)nc2c(=O)n(C)c(=O)nc1-2</td>\n",
       "      <td>nM</td>\n",
       "      <td>6.585027</td>\n",
       "      <td>NaN</td>\n",
       "    </tr>\n",
       "    <tr>\n",
       "      <th>3</th>\n",
       "      <td>CHEMBL1116</td>\n",
       "      <td>Cl.O=C(c1ccc(OCCN2CCCCC2)cc1)c1c(-c2ccc(O)cc2)...</td>\n",
       "      <td>nM</td>\n",
       "      <td>5.251037</td>\n",
       "      <td>NaN</td>\n",
       "    </tr>\n",
       "    <tr>\n",
       "      <th>4</th>\n",
       "      <td>CHEMBL117102</td>\n",
       "      <td>CCC(CC)CC1(C(=O)Nc2ccccc2S)CCCCC1</td>\n",
       "      <td>nM</td>\n",
       "      <td>4.841638</td>\n",
       "      <td>NaN</td>\n",
       "    </tr>\n",
       "  </tbody>\n",
       "</table>\n",
       "</div>"
      ],
      "text/plain": [
       "  molecule_chembl_id                                             smiles  \\\n",
       "0       CHEMBL103299                                     Cc1ccc(CCN)cc1   \n",
       "1      CHEMBL1082333  N#Cc1c(-c2ccc(Cl)cc2)nc(SCc2ccc([N+](=O)[O-])c...   \n",
       "2      CHEMBL1096283   Cn1nc(-c2ccc(C(F)(F)F)cc2)nc2c(=O)n(C)c(=O)nc1-2   \n",
       "3         CHEMBL1116  Cl.O=C(c1ccc(OCCN2CCCCC2)cc1)c1c(-c2ccc(O)cc2)...   \n",
       "4       CHEMBL117102                  CCC(CC)CC1(C(=O)Nc2ccccc2S)CCCCC1   \n",
       "\n",
       "  standard_units     pIC50  pKi  \n",
       "0             nM  7.113509  NaN  \n",
       "1             nM  5.214670  NaN  \n",
       "2             nM  6.585027  NaN  \n",
       "3             nM  5.251037  NaN  \n",
       "4             nM  4.841638  NaN  "
      ]
     },
     "execution_count": 180,
     "metadata": {},
     "output_type": "execute_result"
    }
   ],
   "source": [
    "output_df.head()"
   ]
  },
  {
   "cell_type": "markdown",
   "id": "f1257adb-3886-4283-b47e-560b58df3ad8",
   "metadata": {},
   "source": [
    "##### **7. Visualize Top Compounds**\n",
    "\n",
    "-   **Draw Molecular Structures:** Visualize structures of most potent compounds (highest pIC50/pKi).\n",
    "-   **RDKit Grid:** Use RDKit to convert SMILES to molecular structures and display in a grid."
   ]
  },
  {
   "cell_type": "code",
   "execution_count": 181,
   "id": "280f2295-86df-4ee5-a98d-4a96c7549908",
   "metadata": {},
   "outputs": [
    {
     "data": {
      "text/plain": [
       "array([[<Axes: title={'center': 'pIC50'}>]], dtype=object)"
      ]
     },
     "execution_count": 181,
     "metadata": {},
     "output_type": "execute_result"
    },
    {
     "data": {
      "image/png": "[encoded data removed]",
      "text/plain": [
       "<Figure size 640x480 with 1 Axes>"
      ]
     },
     "metadata": {},
     "output_type": "display_data"
    }
   ],
   "source": [
    "# Plot the distribution of pIC50 values using a histogram.\n",
    "output_df.hist(column=\"pIC50\")"
   ]
  },
  {
   "cell_type": "code",
   "execution_count": 182,
   "id": "299cfaf2-b610-453e-bf91-283893194fd4",
   "metadata": {},
   "outputs": [
    {
     "data": {
      "text/plain": [
       "array([[<Axes: title={'center': 'pKi'}>]], dtype=object)"
      ]
     },
     "execution_count": 182,
     "metadata": {},
     "output_type": "execute_result"
    },
    {
     "data": {
      "image/png": "[encoded data removed]",
      "text/plain": [
       "<Figure size 640x480 with 1 Axes>"
      ]
     },
     "metadata": {},
     "output_type": "display_data"
    }
   ],
   "source": [
    "# Plot the distribution of pKi values using a histogram.\n",
    "output_df.hist(column=\"pKi\")"
   ]
  },
  {
   "cell_type": "code",
   "execution_count": 183,
   "id": "c70035d0-8f21-4e35-a253-f7a207f11cb9",
   "metadata": {},
   "outputs": [
    {
     "data": {
      "text/html": [
       "<div>\n",
       "<style scoped>\n",
       "    .dataframe tbody tr th:only-of-type {\n",
       "        vertical-align: middle;\n",
       "    }\n",
       "\n",
       "    .dataframe tbody tr th {\n",
       "        vertical-align: top;\n",
       "    }\n",
       "\n",
       "    .dataframe thead th {\n",
       "        text-align: right;\n",
       "    }\n",
       "</style>\n",
       "<table border=\"1\" class=\"dataframe\">\n",
       "  <thead>\n",
       "    <tr style=\"text-align: right;\">\n",
       "      <th></th>\n",
       "      <th>molecule_chembl_id</th>\n",
       "      <th>standard_units</th>\n",
       "      <th>pIC50</th>\n",
       "      <th>pKi</th>\n",
       "    </tr>\n",
       "  </thead>\n",
       "  <tbody>\n",
       "    <tr>\n",
       "      <th>0</th>\n",
       "      <td>CHEMBL103299</td>\n",
       "      <td>nM</td>\n",
       "      <td>7.113509</td>\n",
       "      <td>NaN</td>\n",
       "    </tr>\n",
       "    <tr>\n",
       "      <th>1</th>\n",
       "      <td>CHEMBL1082333</td>\n",
       "      <td>nM</td>\n",
       "      <td>5.214670</td>\n",
       "      <td>NaN</td>\n",
       "    </tr>\n",
       "    <tr>\n",
       "      <th>2</th>\n",
       "      <td>CHEMBL1096283</td>\n",
       "      <td>nM</td>\n",
       "      <td>6.585027</td>\n",
       "      <td>NaN</td>\n",
       "    </tr>\n",
       "  </tbody>\n",
       "</table>\n",
       "</div>"
      ],
      "text/plain": [
       "  molecule_chembl_id standard_units     pIC50  pKi\n",
       "0       CHEMBL103299             nM  7.113509  NaN\n",
       "1      CHEMBL1082333             nM  5.214670  NaN\n",
       "2      CHEMBL1096283             nM  6.585027  NaN"
      ]
     },
     "execution_count": 183,
     "metadata": {},
     "output_type": "execute_result"
    }
   ],
   "source": [
    "# Display the first 3 rows of the DataFrame after dropping the 'smiles' column.\n",
    "output_df.drop(\"smiles\", axis=1).head(3)"
   ]
  },
  {
   "cell_type": "code",
   "execution_count": 188,
   "id": "9b031b7a-bb29-42e1-96ed-b3665c1cfbdd",
   "metadata": {},
   "outputs": [
    {
     "data": {
      "text/html": [
       "<div>\n",
       "<style scoped>\n",
       "    .dataframe tbody tr th:only-of-type {\n",
       "        vertical-align: middle;\n",
       "    }\n",
       "\n",
       "    .dataframe tbody tr th {\n",
       "        vertical-align: top;\n",
       "    }\n",
       "\n",
       "    .dataframe thead th {\n",
       "        text-align: right;\n",
       "    }\n",
       "</style>\n",
       "<table border=\"1\" class=\"dataframe\">\n",
       "  <thead>\n",
       "    <tr style=\"text-align: right;\">\n",
       "      <th></th>\n",
       "      <th>molecule_chembl_id</th>\n",
       "      <th>smiles</th>\n",
       "      <th>standard_units</th>\n",
       "      <th>pIC50</th>\n",
       "    </tr>\n",
       "  </thead>\n",
       "  <tbody>\n",
       "    <tr>\n",
       "      <th>0</th>\n",
       "      <td>CHEMBL103299</td>\n",
       "      <td>Cc1ccc(CCN)cc1</td>\n",
       "      <td>nM</td>\n",
       "      <td>7.113509</td>\n",
       "    </tr>\n",
       "    <tr>\n",
       "      <th>1</th>\n",
       "      <td>CHEMBL1082333</td>\n",
       "      <td>N#Cc1c(-c2ccc(Cl)cc2)nc(SCc2ccc([N+](=O)[O-])c...</td>\n",
       "      <td>nM</td>\n",
       "      <td>5.214670</td>\n",
       "    </tr>\n",
       "    <tr>\n",
       "      <th>2</th>\n",
       "      <td>CHEMBL1096283</td>\n",
       "      <td>Cn1nc(-c2ccc(C(F)(F)F)cc2)nc2c(=O)n(C)c(=O)nc1-2</td>\n",
       "      <td>nM</td>\n",
       "      <td>6.585027</td>\n",
       "    </tr>\n",
       "  </tbody>\n",
       "</table>\n",
       "</div>"
      ],
      "text/plain": [
       "  molecule_chembl_id                                             smiles  \\\n",
       "0       CHEMBL103299                                     Cc1ccc(CCN)cc1   \n",
       "1      CHEMBL1082333  N#Cc1c(-c2ccc(Cl)cc2)nc(SCc2ccc([N+](=O)[O-])c...   \n",
       "2      CHEMBL1096283   Cn1nc(-c2ccc(C(F)(F)F)cc2)nc2c(=O)n(C)c(=O)nc1-2   \n",
       "\n",
       "  standard_units     pIC50  \n",
       "0             nM  7.113509  \n",
       "1             nM  5.214670  \n",
       "2             nM  6.585027  "
      ]
     },
     "execution_count": 188,
     "metadata": {},
     "output_type": "execute_result"
    }
   ],
   "source": [
    "# Data for only pIC50\n",
    "pIC50_output_df = output_df.drop(\"pKi\", axis=1).head(3)\n",
    "pIC50_output_df"
   ]
  },
  {
   "cell_type": "code",
   "execution_count": 190,
   "id": "55bf801b-1005-47df-9702-8807c5638e1d",
   "metadata": {},
   "outputs": [
    {
     "data": {
      "text/html": [
       "<div>\n",
       "<style scoped>\n",
       "    .dataframe tbody tr th:only-of-type {\n",
       "        vertical-align: middle;\n",
       "    }\n",
       "\n",
       "    .dataframe tbody tr th {\n",
       "        vertical-align: top;\n",
       "    }\n",
       "\n",
       "    .dataframe thead th {\n",
       "        text-align: right;\n",
       "    }\n",
       "</style>\n",
       "<table border=\"1\" class=\"dataframe\">\n",
       "  <thead>\n",
       "    <tr style=\"text-align: right;\">\n",
       "      <th></th>\n",
       "      <th>molecule_chembl_id</th>\n",
       "      <th>smiles</th>\n",
       "      <th>standard_units</th>\n",
       "      <th>pKi</th>\n",
       "    </tr>\n",
       "  </thead>\n",
       "  <tbody>\n",
       "    <tr>\n",
       "      <th>0</th>\n",
       "      <td>CHEMBL103299</td>\n",
       "      <td>Cc1ccc(CCN)cc1</td>\n",
       "      <td>nM</td>\n",
       "      <td>NaN</td>\n",
       "    </tr>\n",
       "    <tr>\n",
       "      <th>1</th>\n",
       "      <td>CHEMBL1082333</td>\n",
       "      <td>N#Cc1c(-c2ccc(Cl)cc2)nc(SCc2ccc([N+](=O)[O-])c...</td>\n",
       "      <td>nM</td>\n",
       "      <td>NaN</td>\n",
       "    </tr>\n",
       "    <tr>\n",
       "      <th>2</th>\n",
       "      <td>CHEMBL1096283</td>\n",
       "      <td>Cn1nc(-c2ccc(C(F)(F)F)cc2)nc2c(=O)n(C)c(=O)nc1-2</td>\n",
       "      <td>nM</td>\n",
       "      <td>NaN</td>\n",
       "    </tr>\n",
       "  </tbody>\n",
       "</table>\n",
       "</div>"
      ],
      "text/plain": [
       "  molecule_chembl_id                                             smiles  \\\n",
       "0       CHEMBL103299                                     Cc1ccc(CCN)cc1   \n",
       "1      CHEMBL1082333  N#Cc1c(-c2ccc(Cl)cc2)nc(SCc2ccc([N+](=O)[O-])c...   \n",
       "2      CHEMBL1096283   Cn1nc(-c2ccc(C(F)(F)F)cc2)nc2c(=O)n(C)c(=O)nc1-2   \n",
       "\n",
       "  standard_units  pKi  \n",
       "0             nM  NaN  \n",
       "1             nM  NaN  \n",
       "2             nM  NaN  "
      ]
     },
     "execution_count": 190,
     "metadata": {},
     "output_type": "execute_result"
    }
   ],
   "source": [
    "# Data for only pKi\n",
    "pKi_output_df = output_df.drop(\"pIC50\", axis=1).head(3)\n",
    "pKi_output_df"
   ]
  },
  {
   "cell_type": "code",
   "execution_count": 191,
   "id": "301f1f83-394d-48c8-be5f-90864fa69035",
   "metadata": {},
   "outputs": [
    {
     "data": {
      "text/html": [
       "<div>\n",
       "<style scoped>\n",
       "    .dataframe tbody tr th:only-of-type {\n",
       "        vertical-align: middle;\n",
       "    }\n",
       "\n",
       "    .dataframe tbody tr th {\n",
       "        vertical-align: top;\n",
       "    }\n",
       "\n",
       "    .dataframe thead th {\n",
       "        text-align: right;\n",
       "    }\n",
       "</style>\n",
       "<table border=\"1\" class=\"dataframe\">\n",
       "  <thead>\n",
       "    <tr style=\"text-align: right;\">\n",
       "      <th></th>\n",
       "      <th>molecule_chembl_id</th>\n",
       "      <th>smiles</th>\n",
       "      <th>standard_units</th>\n",
       "      <th>pIC50</th>\n",
       "      <th>pKi</th>\n",
       "    </tr>\n",
       "  </thead>\n",
       "  <tbody>\n",
       "    <tr>\n",
       "      <th>0</th>\n",
       "      <td>CHEMBL103299</td>\n",
       "      <td>Cc1ccc(CCN)cc1</td>\n",
       "      <td>nM</td>\n",
       "      <td>7.113509</td>\n",
       "      <td>NaN</td>\n",
       "    </tr>\n",
       "    <tr>\n",
       "      <th>1</th>\n",
       "      <td>CHEMBL1082333</td>\n",
       "      <td>N#Cc1c(-c2ccc(Cl)cc2)nc(SCc2ccc([N+](=O)[O-])c...</td>\n",
       "      <td>nM</td>\n",
       "      <td>5.214670</td>\n",
       "      <td>NaN</td>\n",
       "    </tr>\n",
       "    <tr>\n",
       "      <th>2</th>\n",
       "      <td>CHEMBL1096283</td>\n",
       "      <td>Cn1nc(-c2ccc(C(F)(F)F)cc2)nc2c(=O)n(C)c(=O)nc1-2</td>\n",
       "      <td>nM</td>\n",
       "      <td>6.585027</td>\n",
       "      <td>NaN</td>\n",
       "    </tr>\n",
       "    <tr>\n",
       "      <th>3</th>\n",
       "      <td>CHEMBL1116</td>\n",
       "      <td>Cl.O=C(c1ccc(OCCN2CCCCC2)cc1)c1c(-c2ccc(O)cc2)...</td>\n",
       "      <td>nM</td>\n",
       "      <td>5.251037</td>\n",
       "      <td>NaN</td>\n",
       "    </tr>\n",
       "    <tr>\n",
       "      <th>4</th>\n",
       "      <td>CHEMBL117102</td>\n",
       "      <td>CCC(CC)CC1(C(=O)Nc2ccccc2S)CCCCC1</td>\n",
       "      <td>nM</td>\n",
       "      <td>4.841638</td>\n",
       "      <td>NaN</td>\n",
       "    </tr>\n",
       "  </tbody>\n",
       "</table>\n",
       "</div>"
      ],
      "text/plain": [
       "  molecule_chembl_id                                             smiles  \\\n",
       "0       CHEMBL103299                                     Cc1ccc(CCN)cc1   \n",
       "1      CHEMBL1082333  N#Cc1c(-c2ccc(Cl)cc2)nc(SCc2ccc([N+](=O)[O-])c...   \n",
       "2      CHEMBL1096283   Cn1nc(-c2ccc(C(F)(F)F)cc2)nc2c(=O)n(C)c(=O)nc1-2   \n",
       "3         CHEMBL1116  Cl.O=C(c1ccc(OCCN2CCCCC2)cc1)c1c(-c2ccc(O)cc2)...   \n",
       "4       CHEMBL117102                  CCC(CC)CC1(C(=O)Nc2ccccc2S)CCCCC1   \n",
       "\n",
       "  standard_units     pIC50  pKi  \n",
       "0             nM  7.113509  NaN  \n",
       "1             nM  5.214670  NaN  \n",
       "2             nM  6.585027  NaN  \n",
       "3             nM  5.251037  NaN  \n",
       "4             nM  4.841638  NaN  "
      ]
     },
     "execution_count": 191,
     "metadata": {},
     "output_type": "execute_result"
    }
   ],
   "source": [
    "output_df.head()"
   ]
  },
  {
   "cell_type": "markdown",
   "id": "696c893b-7188-4825-ad54-1cc3808bf20d",
   "metadata": {},
   "source": [
    "##### **8. Freeze Data to ChEMBL 27**\n",
    "\n",
    "-   **Ensure Reproducibility:** Preserve dataset consistency by freezing data to ChEMBL version 27.\n",
    "-   **Document Version:** Dataset is based on ChEMBL 27.\n",
    "-   **Save Dataset:** Save the final DataFrame to a CSV"
   ]
  },
  {
   "cell_type": "code",
   "execution_count": 193,
   "id": "45340b5e-4885-4281-9b39-ea5ac6b8632c",
   "metadata": {},
   "outputs": [],
   "source": [
    "# Define the data directory\n",
    "DATA = Path(\"F:/CHEMOINFORMATICS/data\")"
   ]
  },
  {
   "cell_type": "code",
   "execution_count": 194,
   "id": "34bb71a8-fde3-47ed-9780-1ac222f1b376",
   "metadata": {},
   "outputs": [
    {
     "name": "stdout",
     "output_type": "stream",
     "text": [
      "File saved successfully!\n"
     ]
    }
   ],
   "source": [
    "# Save the DataFrame to CSV\n",
    "output_df.to_csv(DATA / \"MPro_compounds_200325.csv\", index=False)\n",
    "\n",
    "print(\"File saved successfully!\")"
   ]
  },
  {
   "cell_type": "code",
   "execution_count": null,
   "id": "43ed7907-c7ac-4ab4-bc56-0a0403bc7306",
   "metadata": {},
   "outputs": [],
   "source": []
  }
 ],
 "metadata": {
  "kernelspec": {
   "display_name": "Python 3 (ipykernel)",
   "language": "python",
   "name": "python3"
  },
  "language_info": {
   "codemirror_mode": {
    "name": "ipython",
    "version": 3
   },
   "file_extension": ".py",
   "mimetype": "text/x-python",
   "name": "python",
   "nbconvert_exporter": "python",
   "pygments_lexer": "ipython3",
   "version": "3.11.4"
  }
 },
 "nbformat": 4,
 "nbformat_minor": 5
}
